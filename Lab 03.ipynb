{
  "nbformat": 4,
  "nbformat_minor": 0,
  "metadata": {
    "colab": {
      "provenance": [],
      "authorship_tag": "ABX9TyPk55HHoa3GJ8UScb5yufUb"
    },
    "kernelspec": {
      "name": "python3",
      "display_name": "Python 3"
    },
    "language_info": {
      "name": "python"
    }
  },
  "cells": [
    {
      "cell_type": "code",
      "execution_count": null,
      "metadata": {
        "id": "H6AG67Iw0gsA"
      },
      "outputs": [],
      "source": [
        "import tensorflow as tf\n",
        "\n",
        "import pandas\n",
        "\n",
        "url = \"supernoprofit.csv\"\n",
        "\n",
        "origin = pandas.read_table(url, sep=\",\", parse_dates=[\"order_date\"])\n",
        "\n",
        "origin.iloc[:5]"
      ]
    }
  ]
}