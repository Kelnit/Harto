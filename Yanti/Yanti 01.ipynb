{
  "nbformat": 4,
  "nbformat_minor": 0,
  "metadata": {
    "colab": {
      "provenance": [],
      "authorship_tag": "ABX9TyNhNTTlPyNSHjpNpmB68zb1"
    },
    "kernelspec": {
      "name": "python3",
      "display_name": "Python 3"
    },
    "language_info": {
      "name": "python"
    }
  },
  "cells": [
    {
      "cell_type": "code",
      "execution_count": null,
      "metadata": {
        "id": "Db4mybGWBpem"
      },
      "outputs": [],
      "source": [
        "!pip install stopwords\n",
        "\n",
        "import stopwords\n",
        "\n",
        "import tensorflow as tf\n",
        "\n",
        "import tensorflow_datasets as tfds\n",
        "\n",
        "tfds.disable_progress_bar()"
      ]
    },
    {
      "cell_type": "code",
      "source": [
        "train, test = tfds.load(\"imdb_reviews\", split=[\"train\", \"test\"], as_supervised=True)"
      ],
      "metadata": {
        "id": "57xZ6MccCP6B"
      },
      "execution_count": null,
      "outputs": []
    },
    {
      "cell_type": "code",
      "source": [
        "unlist = stopwords.get_stopwords(\"english\")\n",
        "\n",
        "type(unlist)"
      ],
      "metadata": {
        "colab": {
          "base_uri": "https://localhost:8080/"
        },
        "id": "WfXgIJjKCUyA",
        "outputId": "6aa5f32a-9305-4d96-e340-157e7e087260"
      },
      "execution_count": 3,
      "outputs": [
        {
          "output_type": "execute_result",
          "data": {
            "text/plain": [
              "list"
            ]
          },
          "metadata": {},
          "execution_count": 3
        }
      ]
    },
    {
      "cell_type": "code",
      "source": [
        "train_input = []; train_label = []\n",
        "\n",
        "test_input = []; test_label = []\n",
        "\n",
        "retori = lambda snt : [i for i in snt.lower().split() if i not in unlist]\n",
        "\n",
        "for data, label in train:\n",
        "  retari = \" \".join(retori(data.numpy().decode(\"utf8\")))\n",
        "  train_input.append(retari)\n",
        "  train_label.append(label.numpy())\n",
        "\n",
        "for data, label in test:\n",
        "  retari = \" \".join(retori(data.numpy().decode(\"utf8\")))\n",
        "  test_input.append(retari)\n",
        "  test_label.append(label.numpy())"
      ],
      "metadata": {
        "id": "qRnpWcvkDI7d"
      },
      "execution_count": 4,
      "outputs": []
    },
    {
      "cell_type": "code",
      "source": [
        "len(train_input), len(test_input), len(train_label), len(test_label)"
      ],
      "metadata": {
        "colab": {
          "base_uri": "https://localhost:8080/"
        },
        "id": "A9UVOml1DLlq",
        "outputId": "91828768-79be-4f5e-a9d0-3780e535dc8d"
      },
      "execution_count": 5,
      "outputs": [
        {
          "output_type": "execute_result",
          "data": {
            "text/plain": [
              "(25000, 25000, 25000, 25000)"
            ]
          },
          "metadata": {},
          "execution_count": 5
        }
      ]
    },
    {
      "cell_type": "code",
      "source": [
        "import tensorflow.keras.layers as layers\n",
        "\n",
        "vector = layers.TextVectorization(max_tokens=10)\n",
        "\n",
        "sample = [\"aku suka ikan\", \"ikan goreng\", \"ibu masak ikan\", \"bapak masak ayam bersama ibu\"]\n",
        "\n",
        "vector.adapt(sample)"
      ],
      "metadata": {
        "id": "nO54BYqzDk3H"
      },
      "execution_count": 6,
      "outputs": []
    },
    {
      "cell_type": "code",
      "source": [
        "vector.get_vocabulary()[:5]"
      ],
      "metadata": {
        "colab": {
          "base_uri": "https://localhost:8080/"
        },
        "id": "9lqG1_NiENHl",
        "outputId": "b4d251a3-619d-4bfa-9f33-4fc7cb65c6d6"
      },
      "execution_count": 7,
      "outputs": [
        {
          "output_type": "execute_result",
          "data": {
            "text/plain": [
              "['', '[UNK]', 'ikan', 'masak', 'ibu']"
            ]
          },
          "metadata": {},
          "execution_count": 7
        }
      ]
    },
    {
      "cell_type": "code",
      "source": [
        "vector.get_vocabulary()[5:]"
      ],
      "metadata": {
        "colab": {
          "base_uri": "https://localhost:8080/"
        },
        "id": "XJi2sUaGEgUF",
        "outputId": "d88ed028-58d4-4fa7-924f-bb416920372a"
      },
      "execution_count": 8,
      "outputs": [
        {
          "output_type": "execute_result",
          "data": {
            "text/plain": [
              "['suka', 'goreng', 'bersama', 'bapak', 'ayam']"
            ]
          },
          "metadata": {},
          "execution_count": 8
        }
      ]
    },
    {
      "cell_type": "code",
      "source": [
        "vector.get_vocabulary()[1]"
      ],
      "metadata": {
        "colab": {
          "base_uri": "https://localhost:8080/",
          "height": 35
        },
        "id": "EvBYz_ZzE4tQ",
        "outputId": "2fc9fc76-e902-44ff-f7d3-ae97bc1feb9d"
      },
      "execution_count": 9,
      "outputs": [
        {
          "output_type": "execute_result",
          "data": {
            "text/plain": [
              "'[UNK]'"
            ],
            "application/vnd.google.colaboratory.intrinsic+json": {
              "type": "string"
            }
          },
          "metadata": {},
          "execution_count": 9
        }
      ]
    },
    {
      "cell_type": "code",
      "source": [
        "samplet = [\"ikan masak ibu tadi\"]\n",
        "\n",
        "vector(samplet).numpy()"
      ],
      "metadata": {
        "colab": {
          "base_uri": "https://localhost:8080/"
        },
        "id": "Ef-chS6nE6x_",
        "outputId": "dd2eb41d-1b56-47d0-be53-6a13e9d20e59"
      },
      "execution_count": 10,
      "outputs": [
        {
          "output_type": "execute_result",
          "data": {
            "text/plain": [
              "array([[2, 3, 4, 1]])"
            ]
          },
          "metadata": {},
          "execution_count": 10
        }
      ]
    },
    {
      "cell_type": "code",
      "source": [
        "vector.get_vocabulary(include_special_tokens=False)"
      ],
      "metadata": {
        "colab": {
          "base_uri": "https://localhost:8080/"
        },
        "id": "Mxc5zkvYE9XV",
        "outputId": "ee28c323-5ea7-4c33-dce0-09764a1062f0"
      },
      "execution_count": 11,
      "outputs": [
        {
          "output_type": "execute_result",
          "data": {
            "text/plain": [
              "['ikan', 'masak', 'ibu', 'suka', 'goreng', 'bersama', 'bapak', 'ayam']"
            ]
          },
          "metadata": {},
          "execution_count": 11
        }
      ]
    },
    {
      "cell_type": "code",
      "source": [
        "len(vector.get_vocabulary())"
      ],
      "metadata": {
        "colab": {
          "base_uri": "https://localhost:8080/"
        },
        "id": "nZCVDDBgE_H5",
        "outputId": "163814a2-06b9-4135-b2e4-5fe01dd3b2b7"
      },
      "execution_count": 12,
      "outputs": [
        {
          "output_type": "execute_result",
          "data": {
            "text/plain": [
              "10"
            ]
          },
          "metadata": {},
          "execution_count": 12
        }
      ]
    },
    {
      "cell_type": "code",
      "source": [
        "max_tokens = 15000\n",
        "\n",
        "embedding = 16\n",
        "\n",
        "output_sequence_length = 180\n",
        "\n",
        "tokener = layers.TextVectorization(\n",
        "  max_tokens=max_tokens, output_mode=\"int\",\n",
        "  pad_to_max_tokens=True,\n",
        "  output_sequence_length=output_sequence_length)\n",
        "\n",
        "tokener.adapt(train_input)"
      ],
      "metadata": {
        "id": "K_OMc31OFBFI"
      },
      "execution_count": 13,
      "outputs": []
    },
    {
      "cell_type": "code",
      "source": [
        "len(tokener.get_vocabulary())"
      ],
      "metadata": {
        "colab": {
          "base_uri": "https://localhost:8080/"
        },
        "id": "1G2EgdokFFiA",
        "outputId": "dc571599-c35b-4610-f8e7-af82532116dd"
      },
      "execution_count": 14,
      "outputs": [
        {
          "output_type": "execute_result",
          "data": {
            "text/plain": [
              "15000"
            ]
          },
          "metadata": {},
          "execution_count": 14
        }
      ]
    },
    {
      "cell_type": "code",
      "source": [
        "import numpy as np\n",
        "\n",
        "train_input = np.array(tokener(train_input))\n",
        "\n",
        "train_label = np.array(train_label)"
      ],
      "metadata": {
        "id": "uTsPLA7XFHzT"
      },
      "execution_count": 15,
      "outputs": []
    },
    {
      "cell_type": "code",
      "source": [
        "len(train_input), len(train_label)"
      ],
      "metadata": {
        "colab": {
          "base_uri": "https://localhost:8080/"
        },
        "id": "d2HIbSXqFJ4O",
        "outputId": "f6e422fe-0f62-4770-d33b-5c9dec8a8808"
      },
      "execution_count": 16,
      "outputs": [
        {
          "output_type": "execute_result",
          "data": {
            "text/plain": [
              "(25000, 25000)"
            ]
          },
          "metadata": {},
          "execution_count": 16
        }
      ]
    },
    {
      "cell_type": "code",
      "source": [
        "train_input[0][:5]"
      ],
      "metadata": {
        "colab": {
          "base_uri": "https://localhost:8080/"
        },
        "id": "uyOLVJ6VFNhV",
        "outputId": "6acf95a6-8f14-44cd-c9e0-bad363208386"
      },
      "execution_count": 17,
      "outputs": [
        {
          "output_type": "execute_result",
          "data": {
            "text/plain": [
              "array([  318,   292,     3, 10671,  1244])"
            ]
          },
          "metadata": {},
          "execution_count": 17
        }
      ]
    },
    {
      "cell_type": "code",
      "source": [
        "test_input = np.array(tokener(test_input))\n",
        "\n",
        "test_label = np.array(test_label)"
      ],
      "metadata": {
        "id": "Cck5XLHiFPEP"
      },
      "execution_count": 18,
      "outputs": []
    },
    {
      "cell_type": "code",
      "source": [
        "inputs = tf.keras.layers.Input(shape=(output_sequence_length,))\n",
        "\n",
        "embedding = tf.keras.layers.Embedding(max_tokens,embedding)(inputs)\n",
        "\n",
        "droupout = tf.keras.layers.Dropout(0.2)(embedding)\n",
        "\n",
        "pooling = tf.keras.layers.GlobalAveragePooling1D()(droupout)\n",
        "\n",
        "droupout = tf.keras.layers.Dropout(0.2)(pooling)\n",
        "\n",
        "output = tf.keras.layers.Dense(1, activation='sigmoid')(droupout)\n",
        "\n",
        "model = tf.keras.Model(inputs=inputs, outputs=output)"
      ],
      "metadata": {
        "id": "8DyStBadFRt7"
      },
      "execution_count": 19,
      "outputs": []
    },
    {
      "cell_type": "code",
      "source": [
        "model.compile(optimizer=\"adam\", loss=\"binary_crossentropy\", metrics=[\"accuracy\"])"
      ],
      "metadata": {
        "id": "kwWd3b4lFW4Q"
      },
      "execution_count": 20,
      "outputs": []
    },
    {
      "cell_type": "code",
      "source": [
        "plot = model.fit(train_input, train_label, epochs=10, validation_data=(test_input, test_label))"
      ],
      "metadata": {
        "id": "UokyPwCG9Nvk"
      },
      "execution_count": null,
      "outputs": []
    },
    {
      "cell_type": "code",
      "source": [
        "model.evaluate(train_input, train_label, verbose=0)"
      ],
      "metadata": {
        "id": "Q-St6Wq79pWe",
        "outputId": "9abb621b-a3d4-4a20-8242-cae151266397",
        "colab": {
          "base_uri": "https://localhost:8080/"
        }
      },
      "execution_count": 22,
      "outputs": [
        {
          "output_type": "execute_result",
          "data": {
            "text/plain": [
              "[0.1611858308315277, 0.9456800222396851]"
            ]
          },
          "metadata": {},
          "execution_count": 22
        }
      ]
    },
    {
      "cell_type": "code",
      "source": [
        "model.evaluate(test_input, test_label, verbose=0)"
      ],
      "metadata": {
        "id": "5UOgiZ2U9rAD",
        "outputId": "32672548-c0e7-4bb9-e780-dad002eaf5bd",
        "colab": {
          "base_uri": "https://localhost:8080/"
        }
      },
      "execution_count": 23,
      "outputs": [
        {
          "output_type": "execute_result",
          "data": {
            "text/plain": [
              "[0.2982959449291229, 0.8782399892807007]"
            ]
          },
          "metadata": {},
          "execution_count": 23
        }
      ]
    },
    {
      "cell_type": "code",
      "source": [
        "import urllib, os\n",
        "\n",
        "giturl = \"https://raw.githubusercontent.com/Kelnito/Hut/main/\"\n",
        "\n",
        "plotfile = os.path.join(giturl, \"Helplot.py\")\n",
        "\n",
        "urllib.request.urlretrieve(plotfile, \"Helplot.py\")\n",
        "\n",
        "import Helplot\n",
        "\n",
        "plot = Helplot.Helplot(plot)"
      ],
      "metadata": {
        "id": "9UCjVqR79tQ_"
      },
      "execution_count": 24,
      "outputs": []
    },
    {
      "cell_type": "code",
      "source": [
        "plot.trainplot"
      ],
      "metadata": {
        "id": "MPuPKAbM9yRP",
        "outputId": "f441ceea-723f-4556-b38e-d302849563eb",
        "colab": {
          "base_uri": "https://localhost:8080/",
          "height": 512
        }
      },
      "execution_count": 25,
      "outputs": [
        {
          "output_type": "display_data",
          "data": {
            "text/plain": [
              "<Figure size 1000x500 with 2 Axes>"
            ],
            "image/png": "[encoded data removed]"
          },
          "metadata": {}
        }
      ]
    },
    {
      "cell_type": "code",
      "source": [
        "plot.testiplot"
      ],
      "metadata": {
        "id": "avPMytcF9ytn",
        "outputId": "783b770c-9945-4963-a2cd-258034e5cc02",
        "colab": {
          "base_uri": "https://localhost:8080/",
          "height": 512
        }
      },
      "execution_count": 26,
      "outputs": [
        {
          "output_type": "display_data",
          "data": {
            "text/plain": [
              "<Figure size 1000x500 with 2 Axes>"
            ],
            "image/png": "[encoded data removed]"
          },
          "metadata": {}
        }
      ]
    },
    {
      "cell_type": "code",
      "source": [
        "import os\n",
        "\n",
        "model.save(\"/content/model.h5\")"
      ],
      "metadata": {
        "id": "OfDE8mxc91vK"
      },
      "execution_count": null,
      "outputs": []
    },
    {
      "cell_type": "code",
      "source": [
        "!pip install apache_beam[gcp] --quiet\n",
        "\n",
        "import warnings\n",
        "\n",
        "import apache_beam as beam\n",
        "\n",
        "warnings.filterwarnings(\"ignore\")"
      ],
      "metadata": {
        "id": "6T2estcZ93uM"
      },
      "execution_count": null,
      "outputs": []
    },
    {
      "cell_type": "code",
      "source": [
        "from apache_beam.ml.inference.tensorflow_inference import TFModelHandlerTensor\n",
        "\n",
        "from apache_beam.ml.inference.base import RunInference\n",
        "\n",
        "tensor = TFModelHandlerTensor(\"/content/model.h5\")"
      ],
      "metadata": {
        "id": "bllR3ZWg-jmi"
      },
      "execution_count": 29,
      "outputs": []
    },
    {
      "cell_type": "code",
      "source": [
        "trainer = train_input[:10]\n",
        "\n",
        "len(trainer)"
      ],
      "metadata": {
        "id": "uVKMNUF8-mSM",
        "outputId": "0d504f53-7fd3-4c25-e396-dc3f22ffe79f",
        "colab": {
          "base_uri": "https://localhost:8080/"
        }
      },
      "execution_count": 30,
      "outputs": [
        {
          "output_type": "execute_result",
          "data": {
            "text/plain": [
              "10"
            ]
          },
          "metadata": {},
          "execution_count": 30
        }
      ]
    },
    {
      "cell_type": "code",
      "source": [
        "labeler = lambda result : result.inference.numpy()[0].round()"
      ],
      "metadata": {
        "id": "B6JwwWIq-orz"
      },
      "execution_count": 31,
      "outputs": []
    }
  ]
}